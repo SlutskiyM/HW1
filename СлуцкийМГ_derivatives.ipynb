{
 "cells": [
  {
   "cell_type": "code",
   "execution_count": 3,
   "metadata": {
    "collapsed": false
   },
   "outputs": [
    {
     "name": "stdout",
     "output_type": "stream",
     "text": [
      "1.1102230246251565e-16\n"
     ]
    }
   ],
   "source": [
    "#1\n",
    "eps = 1\n",
    "while 1+ eps != 1: #результат меньше машинной точности\n",
    "    eps= eps/2\n",
    "print (eps)"
   ]
  },
  {
   "cell_type": "code",
   "execution_count": 4,
   "metadata": {
    "collapsed": true
   },
   "outputs": [],
   "source": [
    "#2\n",
    "# Любая функция, у которой неоднозначно продолжение на комплексную плоскость\n",
    "# в таком случае мнимая часть может вычисляться для каждой точки по-разному\n",
    "# например log или sqrt"
   ]
  },
  {
   "cell_type": "code",
   "execution_count": null,
   "metadata": {
    "collapsed": true
   },
   "outputs": [],
   "source": [
    "#5 \n",
    "# вычилсить проивоздную с точность до второго знака для x^2logx в  точке 0 не получится,\n",
    "# т.к. в этой точке не существует второй производной => "
   ]
  }
 ],
 "metadata": {
  "anaconda-cloud": {},
  "kernelspec": {
   "display_name": "Python [default]",
   "language": "python",
   "name": "python3"
  },
  "language_info": {
   "codemirror_mode": {
    "name": "ipython",
    "version": 3
   },
   "file_extension": ".py",
   "mimetype": "text/x-python",
   "name": "python",
   "nbconvert_exporter": "python",
   "pygments_lexer": "ipython3",
   "version": "3.5.2"
  }
 },
 "nbformat": 4,
 "nbformat_minor": 1
}
