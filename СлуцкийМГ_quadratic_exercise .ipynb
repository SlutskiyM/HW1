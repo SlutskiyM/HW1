{
 "cells": [
  {
   "cell_type": "markdown",
   "metadata": {},
   "source": [
    "## Solve a quadratic equation, $x^2 + b x + c = 0$."
   ]
  },
  {
   "cell_type": "code",
   "execution_count": 1,
   "metadata": {
    "collapsed": true
   },
   "outputs": [],
   "source": [
    "from numpy import allclose\n",
    "from cmath import sqrt"
   ]
  },
  {
   "cell_type": "code",
   "execution_count": 2,
   "metadata": {
    "collapsed": true
   },
   "outputs": [],
   "source": [
    "def solve_quad(b, c):\n",
    "    \"\"\"Solve a quadratic equation, x**2 + bx + c = 0.\n",
    "    \n",
    "    Parameters\n",
    "    ----------\n",
    "    b, c : float\n",
    "       Coefficients\n",
    "       \n",
    "    Returns\n",
    "    -------\n",
    "    x1, x2 : float or complex\n",
    "       Roots.\n",
    "    \"\"\"\n",
    "    # теорема виета помогает сохранить точность для корня, близкого к 0 (обычной это случай, где c << |b|)\n",
    "    # нужно избавиться от сложения -b + sqrt(b^2 - 4ac), если ответ очень близок к 0 \n",
    "    if c == 0 and b == 0:\n",
    "        x1 = 0\n",
    "        x2 = 0\n",
    "    else:\n",
    "        if b > 0:\n",
    "            x1 = (-b - sqrt(b*b - 4*c))*0.5\n",
    "            x2 =  c/x1\n",
    "        else:\n",
    "            x1 = (-b + sqrt(b*b - 4*c))*0.5\n",
    "            x2 =  c/x1\n",
    "            \n",
    "    return x1,x2"
   ]
  },
  {
   "cell_type": "markdown",
   "metadata": {},
   "source": [
    "Test the function"
   ]
  },
  {
   "cell_type": "code",
   "execution_count": 3,
   "metadata": {
    "collapsed": true
   },
   "outputs": [],
   "source": [
    "variants = [{'b': 4.0, 'c': 3.0},\n",
    "            {'b': 2.0, 'c': 1.0},\n",
    "            {'b': 0.5, 'c': 4.0},\n",
    "            {'b': 1e10, 'c': 3.0},\n",
    "            {'b': -1e10, 'c': 4.0},]"
   ]
  },
  {
   "cell_type": "code",
   "execution_count": 4,
   "metadata": {
    "collapsed": false
   },
   "outputs": [
    {
     "name": "stdout",
     "output_type": "stream",
     "text": [
      "True\n",
      "True\n",
      "True\n",
      "True\n",
      "True\n"
     ]
    }
   ],
   "source": [
    "for var in variants:\n",
    "    x1, x2 = solve_quad(**var)\n",
    "    print(allclose(x1*x2, var['c']))"
   ]
  }
 ],
 "metadata": {
  "anaconda-cloud": {},
  "kernelspec": {
   "display_name": "Python [default]",
   "language": "python",
   "name": "python3"
  },
  "language_info": {
   "codemirror_mode": {
    "name": "ipython",
    "version": 3
   },
   "file_extension": ".py",
   "mimetype": "text/x-python",
   "name": "python",
   "nbconvert_exporter": "python",
   "pygments_lexer": "ipython3",
   "version": "3.5.2"
  }
 },
 "nbformat": 4,
 "nbformat_minor": 2
}
